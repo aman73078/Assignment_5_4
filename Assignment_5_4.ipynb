{
 "cells": [
  {
   "cell_type": "code",
   "execution_count": 3,
   "id": "a9133c84-e753-42c0-bdd2-44ff70f3dde2",
   "metadata": {},
   "outputs": [],
   "source": [
    "# Q1. What is multiprocessing in python? Why is it useful?"
   ]
  },
  {
   "cell_type": "code",
   "execution_count": 4,
   "id": "edae6efc-c63b-4ebc-a7ad-74a5fbdc2767",
   "metadata": {},
   "outputs": [],
   "source": [
    "# Ans- Multiprocessing refers to running multiple processes simultaneously, which can be incredibly useful for\n",
    "#      speeding up your code and handling large datasets and tasks. For example, running an operation in \n",
    "#      parallel can divide a job into several smaller parts that can be processed simultaneously."
   ]
  },
  {
   "cell_type": "code",
   "execution_count": 5,
   "id": "53198fb8-d85e-44f9-98b8-8456cc6019c1",
   "metadata": {},
   "outputs": [],
   "source": [
    "# Q2. What are the differences between multiprocessing and multithreading?"
   ]
  },
  {
   "cell_type": "code",
   "execution_count": 6,
   "id": "b23e68bb-71b1-47e8-9ff7-89113ceb176b",
   "metadata": {},
   "outputs": [],
   "source": [
    "# Ans- By formal definition, multithreading refers to the ability of a processor to execute multiple threads \n",
    "#      concurrently, where each thread runs a process. Whereas multiprocessing refers to the ability of a \n",
    "#      system to run multiple processors in parallel, where each processor can run one or more threads."
   ]
  },
  {
   "cell_type": "code",
   "execution_count": 7,
   "id": "6d0d86ba-10a3-4b42-82e2-554d8dccbe17",
   "metadata": {},
   "outputs": [],
   "source": [
    "# Q3. Write a python code to create a process using the multiprocessing module."
   ]
  },
  {
   "cell_type": "code",
   "execution_count": 8,
   "id": "29b3e2c9-4de3-4f01-9f14-3d9238c22d16",
   "metadata": {},
   "outputs": [
    {
     "name": "stdout",
     "output_type": "stream",
     "text": [
      "Square of 0 : 0\n",
      "Square of 1 : 1\n",
      "Square of 2 : 4\n",
      "Square of 3 : 9\n",
      "Square of 4 : 16\n",
      "Square of 5 : 25\n",
      "Square of 6 : 36\n",
      "Square of 7 : 49\n",
      "Square of 8 : 64\n",
      "Square of 9 : 81\n"
     ]
    }
   ],
   "source": [
    "# Ans- \n",
    "import logging\n",
    "import multiprocessing\n",
    "\n",
    "logging.basicConfig(filename=\"data1.log\", level=logging.INFO, format= \"%(asctime)s %(levelname)s %(message)s\")\n",
    "\n",
    "logging.info(\"This program is showing to create a process using the multiprocessing module.\")\n",
    "\n",
    "logging.info(\"Here define a square function\")\n",
    "def square(num):\n",
    "    print(f'Square of {num} : {num**2}')\n",
    "\n",
    "logging.info(\"This is my main program\")\n",
    "if __name__ == '__main__':\n",
    "    m = [multiprocessing.Process(target=square, args=(i,)) for i in range(10)] \n",
    "\n",
    "for t in m:\n",
    "        t.start()      \n",
    "        t.join()    "
   ]
  },
  {
   "cell_type": "code",
   "execution_count": 9,
   "id": "266600d5-2d81-46da-abbb-b240e23f2859",
   "metadata": {},
   "outputs": [],
   "source": [
    "# Q4. What is a multiprocessing pool in python? Why is it used?"
   ]
  },
  {
   "cell_type": "code",
   "execution_count": 10,
   "id": "e736fd4f-0759-4c80-9b0c-672421e72c92",
   "metadata": {},
   "outputs": [],
   "source": [
    "# Ans- Python multiprocessing Pool can be used for parallel execution of a function across multiple input \n",
    "#      values, distributing the input data across processes (data parallelism). Multiprocessing is useful for\n",
    "#      CPU-bound processes, such as computationally heavy tasks since it will benefit from having multiple \n",
    "#      processors; similar to how multicore computers work faster than computers with a single core."
   ]
  },
  {
   "cell_type": "code",
   "execution_count": 11,
   "id": "34ee991e-4d3d-4981-b7f3-b0416df0f586",
   "metadata": {},
   "outputs": [],
   "source": [
    "# Q5. How can we create a pool of worker processes in python using the multiprocessing module?"
   ]
  },
  {
   "cell_type": "code",
   "execution_count": 12,
   "id": "fc3d3a42-69ad-4251-9ea6-f1d501d22f0f",
   "metadata": {},
   "outputs": [
    {
     "name": "stdout",
     "output_type": "stream",
     "text": [
      "['Name of worker : rohit', 'Name of worker : kumari', 'Name of worker : rahul', 'Name of worker : suman', 'Name of worker : raju', 'Name of worker : kripanshu']\n"
     ]
    }
   ],
   "source": [
    "# Ans- \n",
    "\n",
    "import logging\n",
    "import multiprocessing\n",
    "\n",
    "logging.basicConfig(filename=\"data2.log\", level=logging.INFO, format= \"%(asctime)s %(levelname)s %(message)s\")\n",
    "\n",
    "logging.info(\"Here define a function that is showing the worker's name\")\n",
    "def worker(worker_name):\n",
    "    return f'Name of worker : {worker_name}'\n",
    "    \n",
    "logging.info(\"This is my main Program\")\n",
    "if __name__ == '__main__':\n",
    "    with multiprocessing.Pool(processes=4) as pool:\n",
    "        result = pool.map(worker, ['rohit', 'kumari', 'rahul', 'suman', 'raju', 'kripanshu'])\n",
    "        print(result)\n",
    "        logging.info(\"The list of workers : {}\".format(result))"
   ]
  },
  {
   "cell_type": "code",
   "execution_count": 13,
   "id": "e2109ad2-3e0a-4a46-ae73-b63c5719b00f",
   "metadata": {},
   "outputs": [],
   "source": [
    "# Q6. Write a python program to create 4 processes, each process should print a different number using the\n",
    "#     multiprocessing module in python."
   ]
  },
  {
   "cell_type": "code",
   "execution_count": 14,
   "id": "8e0fe41f-51ca-4286-81b9-1bd504e4226a",
   "metadata": {},
   "outputs": [
    {
     "name": "stdout",
     "output_type": "stream",
     "text": [
      "['Cube of 1 : 1', 'Cube of 2 : 8', 'Cube of 3 : 27', 'Cube of 4 : 64', 'Cube of 5 : 125', 'Cube of 6 : 216', 'Cube of 7 : 343', 'Cube of 8 : 512']\n"
     ]
    }
   ],
   "source": [
    "# Ans-\n",
    "import logging\n",
    "import multiprocessing\n",
    "\n",
    "logging.basicConfig(filename=\"data3.log\", level=logging.INFO, format= \"%(asctime)s %(levelname)s %(message)s \")\n",
    "def cube(num):\n",
    "    return f\"Cube of {num} : {num**3}\"\n",
    "\n",
    "logging.info(\"This is my main Program\")\n",
    "if __name__ == '__main__':\n",
    "    with multiprocessing.Pool(processes=4) as pool:\n",
    "        cube_result = pool.map(cube, [1,2,3,4,5,6,7,8])\n",
    "        print(cube_result)\n",
    "        logging.info(\"The list of cube : {}\".format(cube_result))\n",
    "        "
   ]
  },
  {
   "cell_type": "code",
   "execution_count": null,
   "id": "d918d1ab-d792-49c5-9a70-af677460d8e2",
   "metadata": {},
   "outputs": [],
   "source": []
  },
  {
   "cell_type": "code",
   "execution_count": null,
   "id": "c28b3ed2-5de3-4f87-abc2-61ec797c26e3",
   "metadata": {},
   "outputs": [],
   "source": []
  },
  {
   "cell_type": "code",
   "execution_count": null,
   "id": "b43d9d3b-95fa-4aa0-a385-1c4e80db80b2",
   "metadata": {},
   "outputs": [],
   "source": []
  }
 ],
 "metadata": {
  "kernelspec": {
   "display_name": "Python 3 (ipykernel)",
   "language": "python",
   "name": "python3"
  },
  "language_info": {
   "codemirror_mode": {
    "name": "ipython",
    "version": 3
   },
   "file_extension": ".py",
   "mimetype": "text/x-python",
   "name": "python",
   "nbconvert_exporter": "python",
   "pygments_lexer": "ipython3",
   "version": "3.10.8"
  }
 },
 "nbformat": 4,
 "nbformat_minor": 5
}
